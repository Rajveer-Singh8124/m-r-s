{
 "cells": [
  {
   "cell_type": "code",
   "execution_count": 1,
   "id": "17c20086",
   "metadata": {},
   "outputs": [],
   "source": [
    "import streamlit as st\n",
    "from pickle import load\n",
    "import pandas as pd "
   ]
  },
  {
   "cell_type": "code",
   "execution_count": 2,
   "id": "7bfe18c1",
   "metadata": {},
   "outputs": [],
   "source": [
    "def data():\n",
    "    movie_dict = load(open(\"movies_dict.pkl\",\"rb\"))\n",
    "    similarity = load(open(\"similarity.pkl\",\"rb\"))\n",
    "    return movie_dict,similarity"
   ]
  },
  {
   "cell_type": "code",
   "execution_count": 3,
   "id": "1516f19a",
   "metadata": {},
   "outputs": [
    {
     "name": "stderr",
     "output_type": "stream",
     "text": [
      "2024-03-12 12:54:21.842 \n",
      "  \u001b[33m\u001b[1mWarning:\u001b[0m to view this Streamlit app on a browser, run it with the following\n",
      "  command:\n",
      "\n",
      "    streamlit run C:\\Users\\RAJVEER\\anaconda3\\Lib\\site-packages\\ipykernel_launcher.py [ARGUMENTS]\n"
     ]
    }
   ],
   "source": [
    "\n",
    "\n",
    "# @st.cache_data\n",
    "\n",
    "\n",
    "\n",
    "def recommend(movie):\n",
    "    idx = movies[movies.title == movie].index[0]\n",
    "    distance = similarity[idx]\n",
    "    \n",
    "    movie_list = sorted(list(enumerate(distance)), reverse=True, key=lambda x:x[1])[0:5]\n",
    "\n",
    "    recommended_movies = []\n",
    "\n",
    "\n",
    "    for i in movie_list:\n",
    "        recommended_movies.append(movies.iloc[i[0]].title)\n",
    "        \n",
    "    return recommended_movies\n",
    "\n",
    "\n",
    "movie_dict,similarity = data()\n",
    "movies = pd.DataFrame(movie_dict)\n",
    "\n",
    "#  custom css\n",
    "# with open(\"style.css\") as css:\n",
    "#     st.markdown(f\"<style>{css.read()}</style>\",unsafe_allow_html=True)\n",
    "\n",
    "\n",
    "\n",
    "st.title(\"MOVIES\")\n",
    "movieName =  st.selectbox(f'Total movies {len(movies[\"title\"].values)}',(movies[\"title\"].values))\n",
    "\n",
    "if st.button(\"Recommend\"):\n",
    "    name = recommend(movieName)\n",
    "\n",
    "\n",
    "    col1,col2,col3,col4,col5 =st.columns(5)\n",
    "    with col1:\n",
    "        st.write(name[0])\n",
    "    with col2:\n",
    "        st.write(name[1])   \n",
    "    with col3:\n",
    "        st.write(name[2])\n",
    "    with col4:\n",
    "        st.write(name[3])\n",
    "    with col5:\n",
    "        st.write(name[4])\n"
   ]
  },
  {
   "cell_type": "code",
   "execution_count": null,
   "id": "e0947de6",
   "metadata": {},
   "outputs": [],
   "source": [
    "!streamlit run C:\\Users\\RAJVEER\\anaconda3\\Lib\\site-packages\\ipykernel_launcher.py"
   ]
  },
  {
   "cell_type": "code",
   "execution_count": null,
   "id": "039a9560",
   "metadata": {},
   "outputs": [],
   "source": []
  }
 ],
 "metadata": {
  "kernelspec": {
   "display_name": "Python 3 (ipykernel)",
   "language": "python",
   "name": "python3"
  },
  "language_info": {
   "codemirror_mode": {
    "name": "ipython",
    "version": 3
   },
   "file_extension": ".py",
   "mimetype": "text/x-python",
   "name": "python",
   "nbconvert_exporter": "python",
   "pygments_lexer": "ipython3",
   "version": "3.11.5"
  }
 },
 "nbformat": 4,
 "nbformat_minor": 5
}
